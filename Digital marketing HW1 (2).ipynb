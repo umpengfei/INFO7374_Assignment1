{
 "cells": [
  {
   "cell_type": "code",
   "execution_count": 3,
   "metadata": {},
   "outputs": [
    {
     "name": "stdout",
     "output_type": "stream",
     "text": [
      "Number of CPU cores: 4\n"
     ]
    }
   ],
   "source": [
    "import pandas as pd\n",
    "import xlsxwriter\n",
    "import xlwt\n",
    "import xlrd\n",
    "import csv\n",
    "import numpy as np\n",
    "import matplotlib.pyplot as plt\n",
    "from datetime import datetime\n",
    "from pandas import Series, DataFrame\n",
    "import glob\n",
    "from IPython.display import display, HTML\n",
    "import seaborn as sns\n",
    "from itertools import chain\n",
    "%matplotlib inline\n",
    "import multiprocessing as mp\n",
    "print('Number of CPU cores:', mp.cpu_count())"
   ]
  },
  {
   "cell_type": "code",
   "execution_count": null,
   "metadata": {},
   "outputs": [],
   "source": []
  },
  {
   "cell_type": "code",
   "execution_count": 58,
   "metadata": {},
   "outputs": [],
   "source": [
    "df=pd.read_csv('/Users/check4068/Desktop/算法营销作业/dunnhumby_The-Complete-Journey/dunnhumby - The Complete Journey CSV/causal_data.csv')"
   ]
  },
  {
   "cell_type": "code",
   "execution_count": 59,
   "metadata": {},
   "outputs": [
    {
     "name": "stdout",
     "output_type": "stream",
     "text": [
      "          PRODUCT_ID  STORE_ID  WEEK_NO display mailer\n",
      "0              26190       286       70       0      A\n",
      "1              26190       288       70       0      A\n",
      "2              26190       289       70       0      A\n",
      "3              26190       292       70       0      A\n",
      "4              26190       293       70       0      A\n",
      "...              ...       ...      ...     ...    ...\n",
      "36786519    18203921       439      100       1      0\n",
      "36786520    18203921       439      101       1      0\n",
      "36786521    18243471       415      101       3      0\n",
      "36786522    18243476       415      101       3      0\n",
      "36786523    18244453       345      101       7      0\n",
      "\n",
      "[36786524 rows x 5 columns]\n"
     ]
    }
   ],
   "source": [
    "print(df)\n"
   ]
  },
  {
   "cell_type": "code",
   "execution_count": 39,
   "metadata": {},
   "outputs": [
    {
     "name": "stdout",
     "output_type": "stream",
     "text": [
      "<class 'pandas.core.frame.DataFrame'>\n",
      "RangeIndex: 1048575 entries, 0 to 1048574\n",
      "Data columns (total 5 columns):\n",
      "PRODUCT_ID    1048575 non-null int64\n",
      "STORE_ID      1048575 non-null int64\n",
      "WEEK_NO       1048575 non-null int64\n",
      "display       1048575 non-null object\n",
      "mailer        1048575 non-null object\n",
      "dtypes: int64(3), object(2)\n",
      "memory usage: 156.0 MB\n"
     ]
    },
    {
     "data": {
      "text/html": [
       "<div>\n",
       "<style scoped>\n",
       "    .dataframe tbody tr th:only-of-type {\n",
       "        vertical-align: middle;\n",
       "    }\n",
       "\n",
       "    .dataframe tbody tr th {\n",
       "        vertical-align: top;\n",
       "    }\n",
       "\n",
       "    .dataframe thead th {\n",
       "        text-align: right;\n",
       "    }\n",
       "</style>\n",
       "<table border=\"1\" class=\"dataframe\">\n",
       "  <thead>\n",
       "    <tr style=\"text-align: right;\">\n",
       "      <th></th>\n",
       "      <th>PRODUCT_ID</th>\n",
       "      <th>STORE_ID</th>\n",
       "      <th>WEEK_NO</th>\n",
       "    </tr>\n",
       "  </thead>\n",
       "  <tbody>\n",
       "    <tr>\n",
       "      <td>count</td>\n",
       "      <td>1.048575e+06</td>\n",
       "      <td>1.048575e+06</td>\n",
       "      <td>1.048575e+06</td>\n",
       "    </tr>\n",
       "    <tr>\n",
       "      <td>mean</td>\n",
       "      <td>4.119648e+04</td>\n",
       "      <td>3.259974e+03</td>\n",
       "      <td>5.440696e+01</td>\n",
       "    </tr>\n",
       "    <tr>\n",
       "      <td>std</td>\n",
       "      <td>9.047025e+03</td>\n",
       "      <td>9.141729e+03</td>\n",
       "      <td>2.660981e+01</td>\n",
       "    </tr>\n",
       "    <tr>\n",
       "      <td>min</td>\n",
       "      <td>2.619000e+04</td>\n",
       "      <td>2.860000e+02</td>\n",
       "      <td>9.000000e+00</td>\n",
       "    </tr>\n",
       "    <tr>\n",
       "      <td>25%</td>\n",
       "      <td>3.384800e+04</td>\n",
       "      <td>3.270000e+02</td>\n",
       "      <td>3.200000e+01</td>\n",
       "    </tr>\n",
       "    <tr>\n",
       "      <td>50%</td>\n",
       "      <td>4.141000e+04</td>\n",
       "      <td>3.680000e+02</td>\n",
       "      <td>5.500000e+01</td>\n",
       "    </tr>\n",
       "    <tr>\n",
       "      <td>75%</td>\n",
       "      <td>4.785700e+04</td>\n",
       "      <td>4.210000e+02</td>\n",
       "      <td>7.700000e+01</td>\n",
       "    </tr>\n",
       "    <tr>\n",
       "      <td>max</td>\n",
       "      <td>6.075400e+04</td>\n",
       "      <td>3.428000e+04</td>\n",
       "      <td>1.010000e+02</td>\n",
       "    </tr>\n",
       "  </tbody>\n",
       "</table>\n",
       "</div>"
      ],
      "text/plain": [
       "         PRODUCT_ID      STORE_ID       WEEK_NO\n",
       "count  1.048575e+06  1.048575e+06  1.048575e+06\n",
       "mean   4.119648e+04  3.259974e+03  5.440696e+01\n",
       "std    9.047025e+03  9.141729e+03  2.660981e+01\n",
       "min    2.619000e+04  2.860000e+02  9.000000e+00\n",
       "25%    3.384800e+04  3.270000e+02  3.200000e+01\n",
       "50%    4.141000e+04  3.680000e+02  5.500000e+01\n",
       "75%    4.785700e+04  4.210000e+02  7.700000e+01\n",
       "max    6.075400e+04  3.428000e+04  1.010000e+02"
      ]
     },
     "execution_count": 39,
     "metadata": {},
     "output_type": "execute_result"
    }
   ],
   "source": [
    "df.info(memory_usage='deep')\n",
    "df.describe()"
   ]
  },
  {
   "cell_type": "code",
   "execution_count": 60,
   "metadata": {},
   "outputs": [],
   "source": [
    "df.drop(df.index[1:7000000],inplace=True)\n",
    "df.drop(df.index[1000000:35786520],inplace=True)"
   ]
  },
  {
   "cell_type": "code",
   "execution_count": 61,
   "metadata": {},
   "outputs": [
    {
     "data": {
      "text/plain": [
       "1000000"
      ]
     },
     "execution_count": 61,
     "metadata": {},
     "output_type": "execute_result"
    }
   ],
   "source": [
    "len(df)\n"
   ]
  },
  {
   "cell_type": "code",
   "execution_count": 62,
   "metadata": {},
   "outputs": [
    {
     "name": "stdout",
     "output_type": "stream",
     "text": [
      "        Unnamed: 0  PRODUCT_ID  STORE_ID  WEEK_NO display mailer\n",
      "0                0       26190       286       70       0      A\n",
      "1          7000000      869077       366       41       0      A\n",
      "2          7000001      869077       366       52       0      A\n",
      "3          7000002      869077       366       56       0      D\n",
      "4          7000003      869077       366       57       0      A\n",
      "...            ...         ...       ...      ...     ...    ...\n",
      "999995     7999994      897158       293       38       0      A\n",
      "999996     7999995      897158       293       88       0      F\n",
      "999997     7999996      897158       295       35       0      H\n",
      "999998     7999997      897158       295       38       0      A\n",
      "999999     7999998      897158       295       88       0      F\n",
      "\n",
      "[1000000 rows x 6 columns]\n"
     ]
    }
   ],
   "source": [
    "df.to_csv('/Users/check4068/Desktop/算法营销作业/dunnhumby_The-Complete-Journey/dunnhumby - The Complete Journey CSV/casual 3.csv')\n",
    "    \n",
    "df2=pd.read_csv('/Users/check4068/Desktop/算法营销作业/dunnhumby_The-Complete-Journey/dunnhumby - The Complete Journey CSV/casual 3.csv')\n",
    "print(df2)\n"
   ]
  },
  {
   "cell_type": "code",
   "execution_count": 63,
   "metadata": {},
   "outputs": [
    {
     "data": {
      "text/plain": [
       "1000000"
      ]
     },
     "execution_count": 63,
     "metadata": {},
     "output_type": "execute_result"
    }
   ],
   "source": [
    "len(df2)"
   ]
  },
  {
   "cell_type": "code",
   "execution_count": 25,
   "metadata": {},
   "outputs": [
    {
     "data": {
      "text/html": [
       "<div>\n",
       "<style scoped>\n",
       "    .dataframe tbody tr th:only-of-type {\n",
       "        vertical-align: middle;\n",
       "    }\n",
       "\n",
       "    .dataframe tbody tr th {\n",
       "        vertical-align: top;\n",
       "    }\n",
       "\n",
       "    .dataframe thead th {\n",
       "        text-align: right;\n",
       "    }\n",
       "</style>\n",
       "<table border=\"1\" class=\"dataframe\">\n",
       "  <thead>\n",
       "    <tr style=\"text-align: right;\">\n",
       "      <th></th>\n",
       "      <th>Unnamed: 0</th>\n",
       "      <th>PRODUCT_ID</th>\n",
       "      <th>STORE_ID</th>\n",
       "      <th>WEEK_NO</th>\n",
       "      <th>display</th>\n",
       "      <th>mailer</th>\n",
       "    </tr>\n",
       "  </thead>\n",
       "  <tbody>\n",
       "    <tr>\n",
       "      <td>3570016</td>\n",
       "      <td>5370012</td>\n",
       "      <td>826830</td>\n",
       "      <td>286</td>\n",
       "      <td>17</td>\n",
       "      <td>0</td>\n",
       "      <td>A</td>\n",
       "    </tr>\n",
       "    <tr>\n",
       "      <td>3570017</td>\n",
       "      <td>5370013</td>\n",
       "      <td>826830</td>\n",
       "      <td>286</td>\n",
       "      <td>18</td>\n",
       "      <td>0</td>\n",
       "      <td>H</td>\n",
       "    </tr>\n",
       "    <tr>\n",
       "      <td>3570018</td>\n",
       "      <td>5370014</td>\n",
       "      <td>826830</td>\n",
       "      <td>286</td>\n",
       "      <td>38</td>\n",
       "      <td>0</td>\n",
       "      <td>A</td>\n",
       "    </tr>\n",
       "    <tr>\n",
       "      <td>3570019</td>\n",
       "      <td>5370015</td>\n",
       "      <td>826830</td>\n",
       "      <td>286</td>\n",
       "      <td>39</td>\n",
       "      <td>0</td>\n",
       "      <td>A</td>\n",
       "    </tr>\n",
       "    <tr>\n",
       "      <td>3570020</td>\n",
       "      <td>5370016</td>\n",
       "      <td>826830</td>\n",
       "      <td>286</td>\n",
       "      <td>49</td>\n",
       "      <td>0</td>\n",
       "      <td>A</td>\n",
       "    </tr>\n",
       "    <tr>\n",
       "      <td>...</td>\n",
       "      <td>...</td>\n",
       "      <td>...</td>\n",
       "      <td>...</td>\n",
       "      <td>...</td>\n",
       "      <td>...</td>\n",
       "      <td>...</td>\n",
       "    </tr>\n",
       "    <tr>\n",
       "      <td>3571852</td>\n",
       "      <td>5371848</td>\n",
       "      <td>826830</td>\n",
       "      <td>34280</td>\n",
       "      <td>90</td>\n",
       "      <td>6</td>\n",
       "      <td>A</td>\n",
       "    </tr>\n",
       "    <tr>\n",
       "      <td>3571853</td>\n",
       "      <td>5371849</td>\n",
       "      <td>826830</td>\n",
       "      <td>34280</td>\n",
       "      <td>91</td>\n",
       "      <td>6</td>\n",
       "      <td>0</td>\n",
       "    </tr>\n",
       "    <tr>\n",
       "      <td>3571854</td>\n",
       "      <td>5371850</td>\n",
       "      <td>826830</td>\n",
       "      <td>34280</td>\n",
       "      <td>92</td>\n",
       "      <td>A</td>\n",
       "      <td>0</td>\n",
       "    </tr>\n",
       "    <tr>\n",
       "      <td>3571855</td>\n",
       "      <td>5371851</td>\n",
       "      <td>826830</td>\n",
       "      <td>34280</td>\n",
       "      <td>93</td>\n",
       "      <td>6</td>\n",
       "      <td>0</td>\n",
       "    </tr>\n",
       "    <tr>\n",
       "      <td>3571856</td>\n",
       "      <td>5371852</td>\n",
       "      <td>826830</td>\n",
       "      <td>34280</td>\n",
       "      <td>96</td>\n",
       "      <td>0</td>\n",
       "      <td>A</td>\n",
       "    </tr>\n",
       "  </tbody>\n",
       "</table>\n",
       "<p>1841 rows × 6 columns</p>\n",
       "</div>"
      ],
      "text/plain": [
       "         Unnamed: 0  PRODUCT_ID  STORE_ID  WEEK_NO display mailer\n",
       "3570016     5370012      826830       286       17       0      A\n",
       "3570017     5370013      826830       286       18       0      H\n",
       "3570018     5370014      826830       286       38       0      A\n",
       "3570019     5370015      826830       286       39       0      A\n",
       "3570020     5370016      826830       286       49       0      A\n",
       "...             ...         ...       ...      ...     ...    ...\n",
       "3571852     5371848      826830     34280       90       6      A\n",
       "3571853     5371849      826830     34280       91       6      0\n",
       "3571854     5371850      826830     34280       92       A      0\n",
       "3571855     5371851      826830     34280       93       6      0\n",
       "3571856     5371852      826830     34280       96       0      A\n",
       "\n",
       "[1841 rows x 6 columns]"
      ]
     },
     "execution_count": 25,
     "metadata": {},
     "output_type": "execute_result"
    }
   ],
   "source": [
    "df2.loc[df2['PRODUCT_ID']==826830]\n"
   ]
  },
  {
   "cell_type": "code",
   "execution_count": 24,
   "metadata": {},
   "outputs": [
    {
     "data": {
      "text/html": [
       "<div>\n",
       "<style scoped>\n",
       "    .dataframe tbody tr th:only-of-type {\n",
       "        vertical-align: middle;\n",
       "    }\n",
       "\n",
       "    .dataframe tbody tr th {\n",
       "        vertical-align: top;\n",
       "    }\n",
       "\n",
       "    .dataframe thead th {\n",
       "        text-align: right;\n",
       "    }\n",
       "</style>\n",
       "<table border=\"1\" class=\"dataframe\">\n",
       "  <thead>\n",
       "    <tr style=\"text-align: right;\">\n",
       "      <th></th>\n",
       "      <th>Unnamed: 0</th>\n",
       "      <th>PRODUCT_ID</th>\n",
       "      <th>STORE_ID</th>\n",
       "      <th>WEEK_NO</th>\n",
       "      <th>display</th>\n",
       "      <th>mailer</th>\n",
       "    </tr>\n",
       "  </thead>\n",
       "  <tbody>\n",
       "    <tr>\n",
       "      <td>10614868</td>\n",
       "      <td>12414864</td>\n",
       "      <td>1018588</td>\n",
       "      <td>286</td>\n",
       "      <td>11</td>\n",
       "      <td>0</td>\n",
       "      <td>A</td>\n",
       "    </tr>\n",
       "    <tr>\n",
       "      <td>10614869</td>\n",
       "      <td>12414865</td>\n",
       "      <td>1018588</td>\n",
       "      <td>286</td>\n",
       "      <td>37</td>\n",
       "      <td>0</td>\n",
       "      <td>A</td>\n",
       "    </tr>\n",
       "    <tr>\n",
       "      <td>10614870</td>\n",
       "      <td>12414866</td>\n",
       "      <td>1018588</td>\n",
       "      <td>288</td>\n",
       "      <td>11</td>\n",
       "      <td>0</td>\n",
       "      <td>A</td>\n",
       "    </tr>\n",
       "    <tr>\n",
       "      <td>10614871</td>\n",
       "      <td>12414867</td>\n",
       "      <td>1018588</td>\n",
       "      <td>288</td>\n",
       "      <td>37</td>\n",
       "      <td>0</td>\n",
       "      <td>A</td>\n",
       "    </tr>\n",
       "    <tr>\n",
       "      <td>10614872</td>\n",
       "      <td>12414868</td>\n",
       "      <td>1018588</td>\n",
       "      <td>289</td>\n",
       "      <td>11</td>\n",
       "      <td>0</td>\n",
       "      <td>A</td>\n",
       "    </tr>\n",
       "    <tr>\n",
       "      <td>...</td>\n",
       "      <td>...</td>\n",
       "      <td>...</td>\n",
       "      <td>...</td>\n",
       "      <td>...</td>\n",
       "      <td>...</td>\n",
       "      <td>...</td>\n",
       "    </tr>\n",
       "    <tr>\n",
       "      <td>10615345</td>\n",
       "      <td>12415341</td>\n",
       "      <td>1018588</td>\n",
       "      <td>32004</td>\n",
       "      <td>42</td>\n",
       "      <td>1</td>\n",
       "      <td>0</td>\n",
       "    </tr>\n",
       "    <tr>\n",
       "      <td>10615346</td>\n",
       "      <td>12415342</td>\n",
       "      <td>1018588</td>\n",
       "      <td>34007</td>\n",
       "      <td>91</td>\n",
       "      <td>1</td>\n",
       "      <td>0</td>\n",
       "    </tr>\n",
       "    <tr>\n",
       "      <td>10615347</td>\n",
       "      <td>12415343</td>\n",
       "      <td>1018588</td>\n",
       "      <td>34007</td>\n",
       "      <td>92</td>\n",
       "      <td>1</td>\n",
       "      <td>0</td>\n",
       "    </tr>\n",
       "    <tr>\n",
       "      <td>10615348</td>\n",
       "      <td>12415344</td>\n",
       "      <td>1018588</td>\n",
       "      <td>34007</td>\n",
       "      <td>93</td>\n",
       "      <td>1</td>\n",
       "      <td>0</td>\n",
       "    </tr>\n",
       "    <tr>\n",
       "      <td>10615349</td>\n",
       "      <td>12415345</td>\n",
       "      <td>1018588</td>\n",
       "      <td>34280</td>\n",
       "      <td>95</td>\n",
       "      <td>7</td>\n",
       "      <td>0</td>\n",
       "    </tr>\n",
       "  </tbody>\n",
       "</table>\n",
       "<p>482 rows × 6 columns</p>\n",
       "</div>"
      ],
      "text/plain": [
       "          Unnamed: 0  PRODUCT_ID  STORE_ID  WEEK_NO display mailer\n",
       "10614868    12414864     1018588       286       11       0      A\n",
       "10614869    12414865     1018588       286       37       0      A\n",
       "10614870    12414866     1018588       288       11       0      A\n",
       "10614871    12414867     1018588       288       37       0      A\n",
       "10614872    12414868     1018588       289       11       0      A\n",
       "...              ...         ...       ...      ...     ...    ...\n",
       "10615345    12415341     1018588     32004       42       1      0\n",
       "10615346    12415342     1018588     34007       91       1      0\n",
       "10615347    12415343     1018588     34007       92       1      0\n",
       "10615348    12415344     1018588     34007       93       1      0\n",
       "10615349    12415345     1018588     34280       95       7      0\n",
       "\n",
       "[482 rows x 6 columns]"
      ]
     },
     "execution_count": 24,
     "metadata": {},
     "output_type": "execute_result"
    }
   ],
   "source": [
    "df2.loc[df2['PRODUCT_ID']==1018588]"
   ]
  },
  {
   "cell_type": "code",
   "execution_count": 106,
   "metadata": {},
   "outputs": [],
   "source": [
    "\n"
   ]
  },
  {
   "cell_type": "code",
   "execution_count": null,
   "metadata": {},
   "outputs": [],
   "source": []
  },
  {
   "cell_type": "code",
   "execution_count": 4,
   "metadata": {},
   "outputs": [],
   "source": [
    "transaction_data = pd.read_csv('/Users/check4068/Desktop/算法营销作业/dunnhumby_The-Complete-Journey/dunnhumby - The Complete Journey CSV/transaction data.csv')\n",
    "coupon = pd.read_csv('/Users/check4068/Desktop/算法营销作业/dunnhumby_The-Complete-Journey/dunnhumby - The Complete Journey CSV/coupon.csv')\n",
    "coupon_redempt = pd.read_csv('/Users/check4068/Desktop/算法营销作业/dunnhumby_The-Complete-Journey/dunnhumby - The Complete Journey CSV/coupon_redempt.csv')\n",
    "campaign_table = pd.read_csv('/Users/check4068/Desktop/算法营销作业/dunnhumby_The-Complete-Journey/dunnhumby - The Complete Journey CSV/campaign_table.csv')\n",
    "product = pd.read_csv('/Users/check4068/Desktop/算法营销作业/dunnhumby_The-Complete-Journey/dunnhumby - The Complete Journey CSV/product.csv')\n",
    "hh_demographic = pd.read_csv('/Users/check4068/Desktop/算法营销作业/dunnhumby_The-Complete-Journey/dunnhumby - The Complete Journey CSV/hh_demographic.csv')\n",
    "campaign_desc = pd.read_csv('/Users/check4068/Desktop/算法营销作业/dunnhumby_The-Complete-Journey/dunnhumby - The Complete Journey CSV/campaign_desc.csv')\n",
    "causal_data = pd.read_csv('/Users/check4068/Desktop/算法营销作业/dunnhumby_The-Complete-Journey/dunnhumby - The Complete Journey CSV/casual 3.csv')"
   ]
  },
  {
   "cell_type": "code",
   "execution_count": 6,
   "metadata": {},
   "outputs": [
    {
     "name": "stdout",
     "output_type": "stream",
     "text": [
      "<class 'pandas.core.frame.DataFrame'>\n",
      "RangeIndex: 7208 entries, 0 to 7207\n",
      "Data columns (total 3 columns):\n",
      "DESCRIPTION      7208 non-null object\n",
      "household_key    7208 non-null int64\n",
      "CAMPAIGN         7208 non-null int64\n",
      "dtypes: int64(2), object(1)\n",
      "memory usage: 169.1+ KB\n",
      "<class 'pandas.core.frame.DataFrame'>\n",
      "RangeIndex: 30 entries, 0 to 29\n",
      "Data columns (total 4 columns):\n",
      "DESCRIPTION    30 non-null object\n",
      "CAMPAIGN       30 non-null int64\n",
      "START_DAY      30 non-null int64\n",
      "END_DAY        30 non-null int64\n",
      "dtypes: int64(3), object(1)\n",
      "memory usage: 1.1+ KB\n",
      "<class 'pandas.core.frame.DataFrame'>\n",
      "RangeIndex: 1000000 entries, 0 to 999999\n",
      "Data columns (total 6 columns):\n",
      "Unnamed: 0    1000000 non-null int64\n",
      "PRODUCT_ID    1000000 non-null int64\n",
      "STORE_ID      1000000 non-null int64\n",
      "WEEK_NO       1000000 non-null int64\n",
      "display       1000000 non-null object\n",
      "mailer        1000000 non-null object\n",
      "dtypes: int64(4), object(2)\n",
      "memory usage: 45.8+ MB\n",
      "<class 'pandas.core.frame.DataFrame'>\n",
      "RangeIndex: 124548 entries, 0 to 124547\n",
      "Data columns (total 3 columns):\n",
      "COUPON_UPC    124548 non-null int64\n",
      "PRODUCT_ID    124548 non-null int64\n",
      "CAMPAIGN      124548 non-null int64\n",
      "dtypes: int64(3)\n",
      "memory usage: 2.9 MB\n",
      "<class 'pandas.core.frame.DataFrame'>\n",
      "RangeIndex: 2318 entries, 0 to 2317\n",
      "Data columns (total 4 columns):\n",
      "household_key    2318 non-null int64\n",
      "DAY              2318 non-null int64\n",
      "COUPON_UPC       2318 non-null int64\n",
      "CAMPAIGN         2318 non-null int64\n",
      "dtypes: int64(4)\n",
      "memory usage: 72.6 KB\n",
      "<class 'pandas.core.frame.DataFrame'>\n",
      "RangeIndex: 801 entries, 0 to 800\n",
      "Data columns (total 8 columns):\n",
      "AGE_DESC               801 non-null object\n",
      "MARITAL_STATUS_CODE    801 non-null object\n",
      "INCOME_DESC            801 non-null object\n",
      "HOMEOWNER_DESC         801 non-null object\n",
      "HH_COMP_DESC           801 non-null object\n",
      "HOUSEHOLD_SIZE_DESC    801 non-null object\n",
      "KID_CATEGORY_DESC      801 non-null object\n",
      "household_key          801 non-null int64\n",
      "dtypes: int64(1), object(7)\n",
      "memory usage: 50.2+ KB\n",
      "<class 'pandas.core.frame.DataFrame'>\n",
      "RangeIndex: 92353 entries, 0 to 92352\n",
      "Data columns (total 7 columns):\n",
      "PRODUCT_ID              92353 non-null int64\n",
      "MANUFACTURER            92353 non-null int64\n",
      "DEPARTMENT              92353 non-null object\n",
      "BRAND                   92353 non-null object\n",
      "COMMODITY_DESC          92353 non-null object\n",
      "SUB_COMMODITY_DESC      92353 non-null object\n",
      "CURR_SIZE_OF_PRODUCT    92353 non-null object\n",
      "dtypes: int64(2), object(5)\n",
      "memory usage: 4.9+ MB\n",
      "<class 'pandas.core.frame.DataFrame'>\n",
      "RangeIndex: 1048575 entries, 0 to 1048574\n",
      "Data columns (total 12 columns):\n",
      "household_key        1048575 non-null int64\n",
      "BASKET_ID            1048575 non-null int64\n",
      "DAY                  1048575 non-null int64\n",
      "PRODUCT_ID           1048575 non-null int64\n",
      "QUANTITY             1048575 non-null int64\n",
      "SALES_VALUE          1048575 non-null float64\n",
      "STORE_ID             1048575 non-null int64\n",
      "RETAIL_DISC          1048575 non-null float64\n",
      "TRANS_TIME           1048575 non-null int64\n",
      "WEEK_NO              1048575 non-null int64\n",
      "COUPON_DISC          1048575 non-null float64\n",
      "COUPON_MATCH_DISC    1048575 non-null float64\n",
      "dtypes: float64(4), int64(8)\n",
      "memory usage: 96.0 MB\n"
     ]
    }
   ],
   "source": [
    "campaign_table.info()\n",
    "campaign_desc.info()\n",
    "causal_data.info()\n",
    "coupon.info()\n",
    "coupon_redempt.info()\n",
    "hh_demographic.info()\n",
    "product.info()\n",
    "transaction_data.info()\n",
    "campaign_desc = campaign_desc.dropna()\n",
    "campaign_table = campaign_table.dropna()\n",
    "causal_data = causal_data.dropna()\n",
    "coupon = coupon.dropna()\n",
    "coupon_redempt = coupon_redempt.dropna()\n",
    "hh_demographic = hh_demographic.dropna()\n",
    "product = product.dropna()\n",
    "transaction_data = transaction_data.dropna()"
   ]
  },
  {
   "cell_type": "code",
   "execution_count": 5,
   "metadata": {},
   "outputs": [
    {
     "data": {
      "image/png": "[encoded data removed]",
      "text/plain": [
       "<Figure size 432x288 with 1 Axes>"
      ]
     },
     "metadata": {
      "needs_background": "light"
     },
     "output_type": "display_data"
    }
   ],
   "source": [
    "a1 = transaction_data.groupby(by=['DAY']).agg({'QUANTITY':'sum'})\n",
    "a1.head()\n",
    "p1 = sns.distplot(a1, kde=False, hist=True)\n",
    "p1.set(title='Distribution of days',\n",
    "       xlabel='# of Day', \n",
    "       ylabel='# of product sold quant');"
   ]
  },
  {
   "cell_type": "code",
   "execution_count": 8,
   "metadata": {},
   "outputs": [
    {
     "ename": "TypeError",
     "evalue": "'>=' not supported between instances of 'str' and 'int'",
     "output_type": "error",
     "traceback": [
      "\u001b[0;31m---------------------------------------------------------------------------\u001b[0m",
      "\u001b[0;31mTypeError\u001b[0m                                 Traceback (most recent call last)",
      "\u001b[0;32m<ipython-input-8-d41dc276bbf7>\u001b[0m in \u001b[0;36m<module>\u001b[0;34m\u001b[0m\n\u001b[0;32m----> 1\u001b[0;31m \u001b[0ma\u001b[0m\u001b[0;34m=\u001b[0m\u001b[0mtransaction_data\u001b[0m\u001b[0;34m[\u001b[0m\u001b[0;34m'QUANTITY'\u001b[0m\u001b[0;34m>=\u001b[0m\u001b[0;36m3\u001b[0m\u001b[0;34m]\u001b[0m\u001b[0;34m\u001b[0m\u001b[0;34m\u001b[0m\u001b[0m\n\u001b[0m\u001b[1;32m      2\u001b[0m \u001b[0ma\u001b[0m\u001b[0;34m.\u001b[0m\u001b[0mhead\u001b[0m\u001b[0;34m(\u001b[0m\u001b[0;34m)\u001b[0m\u001b[0;34m\u001b[0m\u001b[0;34m\u001b[0m\u001b[0m\n",
      "\u001b[0;31mTypeError\u001b[0m: '>=' not supported between instances of 'str' and 'int'"
     ]
    }
   ],
   "source": [
    "a=transaction_data['QUANTITY'>=3]\n",
    "a.head()"
   ]
  },
  {
   "cell_type": "code",
   "execution_count": 8,
   "metadata": {},
   "outputs": [
    {
     "ename": "NameError",
     "evalue": "name 'p2' is not defined",
     "output_type": "error",
     "traceback": [
      "\u001b[0;31m---------------------------------------------------------------------------\u001b[0m",
      "\u001b[0;31mNameError\u001b[0m                                 Traceback (most recent call last)",
      "\u001b[0;32m<ipython-input-8-fc94ef1c3803>\u001b[0m in \u001b[0;36m<module>\u001b[0;34m\u001b[0m\n\u001b[1;32m      2\u001b[0m \u001b[0ma2\u001b[0m\u001b[0;34m.\u001b[0m\u001b[0mhead\u001b[0m\u001b[0;34m(\u001b[0m\u001b[0;34m)\u001b[0m\u001b[0;34m\u001b[0m\u001b[0;34m\u001b[0m\u001b[0m\n\u001b[1;32m      3\u001b[0m \u001b[0mp1\u001b[0m \u001b[0;34m=\u001b[0m \u001b[0msns\u001b[0m\u001b[0;34m.\u001b[0m\u001b[0mdistplot\u001b[0m\u001b[0;34m(\u001b[0m\u001b[0ma2\u001b[0m\u001b[0;34m,\u001b[0m \u001b[0mkde\u001b[0m\u001b[0;34m=\u001b[0m\u001b[0;32mFalse\u001b[0m\u001b[0;34m,\u001b[0m \u001b[0mhist\u001b[0m\u001b[0;34m=\u001b[0m\u001b[0;32mTrue\u001b[0m\u001b[0;34m)\u001b[0m\u001b[0;34m\u001b[0m\u001b[0;34m\u001b[0m\u001b[0m\n\u001b[0;32m----> 4\u001b[0;31m p2.set(title='Distribution of number of orders per customer',\n\u001b[0m\u001b[1;32m      5\u001b[0m        \u001b[0mxlabel\u001b[0m\u001b[0;34m=\u001b[0m\u001b[0;34m'# of orders'\u001b[0m\u001b[0;34m,\u001b[0m\u001b[0;34m\u001b[0m\u001b[0;34m\u001b[0m\u001b[0m\n\u001b[1;32m      6\u001b[0m        ylabel='# of customers');\n",
      "\u001b[0;31mNameError\u001b[0m: name 'p2' is not defined"
     ]
    },
    {
     "data": {
      "image/png": "[encoded data removed]",
      "text/plain": [
       "<Figure size 432x288 with 1 Axes>"
      ]
     },
     "metadata": {
      "needs_background": "light"
     },
     "output_type": "display_data"
    }
   ],
   "source": [
    "a2 = campaign_table.groupby(by=['CAMPAIGN']).agg({'household_key':'count'})\n",
    "a2.head()\n",
    "p1 = sns.distplot(a2, kde=False, hist=True)\n",
    "p2.set(title='Distribution of number of orders per customer',\n",
    "       xlabel='# of orders', \n",
    "       ylabel='# of customers');"
   ]
  },
  {
   "cell_type": "code",
   "execution_count": 9,
   "metadata": {},
   "outputs": [
    {
     "data": {
      "image/png": "[encoded data removed]",
      "text/plain": [
       "<Figure size 432x288 with 1 Axes>"
      ]
     },
     "metadata": {
      "needs_background": "light"
     },
     "output_type": "display_data"
    }
   ],
   "source": [
    "a3 = coupon.groupby(by=['CAMPAIGN']).agg({'PRODUCT_ID':'count'})\n",
    "a3.head()\n",
    "p3 = sns.distplot(a3, kde=False, hist=True)\n",
    "p3.set(title='Distribution of Product campaign frequency',\n",
    "       xlabel='# of PRODUCT', \n",
    "       ylabel='# of SUM of Campaign');"
   ]
  },
  {
   "cell_type": "code",
   "execution_count": 131,
   "metadata": {},
   "outputs": [
    {
     "data": {
      "text/html": [
       "<div>\n",
       "<style scoped>\n",
       "    .dataframe tbody tr th:only-of-type {\n",
       "        vertical-align: middle;\n",
       "    }\n",
       "\n",
       "    .dataframe tbody tr th {\n",
       "        vertical-align: top;\n",
       "    }\n",
       "\n",
       "    .dataframe thead th {\n",
       "        text-align: right;\n",
       "    }\n",
       "</style>\n",
       "<table border=\"1\" class=\"dataframe\">\n",
       "  <thead>\n",
       "    <tr style=\"text-align: right;\">\n",
       "      <th></th>\n",
       "      <th>COUPON_UPC</th>\n",
       "      <th>PRODUCT_ID</th>\n",
       "      <th>CAMPAIGN_x</th>\n",
       "      <th>household_key</th>\n",
       "      <th>DAY</th>\n",
       "      <th>CAMPAIGN_y</th>\n",
       "    </tr>\n",
       "  </thead>\n",
       "  <tbody>\n",
       "    <tr>\n",
       "      <td>0</td>\n",
       "      <td>10000089064</td>\n",
       "      <td>27754</td>\n",
       "      <td>9</td>\n",
       "      <td>321</td>\n",
       "      <td>446</td>\n",
       "      <td>9</td>\n",
       "    </tr>\n",
       "    <tr>\n",
       "      <td>1</td>\n",
       "      <td>10000089064</td>\n",
       "      <td>27754</td>\n",
       "      <td>9</td>\n",
       "      <td>1773</td>\n",
       "      <td>439</td>\n",
       "      <td>9</td>\n",
       "    </tr>\n",
       "    <tr>\n",
       "      <td>2</td>\n",
       "      <td>10000089064</td>\n",
       "      <td>243186</td>\n",
       "      <td>9</td>\n",
       "      <td>321</td>\n",
       "      <td>446</td>\n",
       "      <td>9</td>\n",
       "    </tr>\n",
       "    <tr>\n",
       "      <td>3</td>\n",
       "      <td>10000089064</td>\n",
       "      <td>243186</td>\n",
       "      <td>9</td>\n",
       "      <td>1773</td>\n",
       "      <td>439</td>\n",
       "      <td>9</td>\n",
       "    </tr>\n",
       "    <tr>\n",
       "      <td>4</td>\n",
       "      <td>10000089064</td>\n",
       "      <td>872316</td>\n",
       "      <td>9</td>\n",
       "      <td>321</td>\n",
       "      <td>446</td>\n",
       "      <td>9</td>\n",
       "    </tr>\n",
       "  </tbody>\n",
       "</table>\n",
       "</div>"
      ],
      "text/plain": [
       "    COUPON_UPC  PRODUCT_ID  CAMPAIGN_x  household_key  DAY  CAMPAIGN_y\n",
       "0  10000089064       27754           9            321  446           9\n",
       "1  10000089064       27754           9           1773  439           9\n",
       "2  10000089064      243186           9            321  446           9\n",
       "3  10000089064      243186           9           1773  439           9\n",
       "4  10000089064      872316           9            321  446           9"
      ]
     },
     "execution_count": 131,
     "metadata": {},
     "output_type": "execute_result"
    }
   ],
   "source": [
    "merge1 = coupon.merge(coupon_redempt, on=['COUPON_UPC'], how='inner')\n",
    "merge1.head()"
   ]
  },
  {
   "cell_type": "code",
   "execution_count": null,
   "metadata": {},
   "outputs": [],
   "source": []
  }
 ],
 "metadata": {
  "kernelspec": {
   "display_name": "Python 3",
   "language": "python",
   "name": "python3"
  },
  "language_info": {
   "codemirror_mode": {
    "name": "ipython",
    "version": 3
   },
   "file_extension": ".py",
   "mimetype": "text/x-python",
   "name": "python",
   "nbconvert_exporter": "python",
   "pygments_lexer": "ipython3",
   "version": "3.7.3"
  }
 },
 "nbformat": 4,
 "nbformat_minor": 4
}
